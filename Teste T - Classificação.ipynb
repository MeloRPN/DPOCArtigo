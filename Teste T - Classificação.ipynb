{
 "cells": [
  {
   "cell_type": "code",
   "execution_count": 16,
   "id": "8e1eda7c",
   "metadata": {},
   "outputs": [],
   "source": [
    "from scipy import stats\n",
    "import pandas as pd\n",
    "import numpy as np\n",
    "import seaborn as sns\n",
    "import matplotlib.pyplot as plt\n",
    "import plotly.express as px\n",
    "import scipy.stats as st"
   ]
  },
  {
   "cell_type": "markdown",
   "id": "71923109",
   "metadata": {},
   "source": [
    "RF = RANDOM FOREST /\n",
    "AD = DECISION TREE /\n",
    "NB = NAIVE BAYES /\n",
    "ADA = ADABOOST /\n",
    "MLP = MLPCLASSIFIER /"
   ]
  },
  {
   "cell_type": "code",
   "execution_count": 10,
   "id": "c332eb19",
   "metadata": {},
   "outputs": [],
   "source": [
    "#Médias dos f1-score das 10 dobras de cada modelo\n",
    "RF = [0.68,0.71,0.72,0.72,0.81,0.75,0.69,0.74,0.71,0.73]\n",
    "AD = (0.67,0.69,0.70,0.72,0.79,0.75,0.67,0.75,0.71,0.75)\n",
    "NB = (0.63,0.70,0.68,0.69,0.70,0.76,0.65,0.66,0.69,0.72)\n",
    "ADA = (0.65,0.72,0.68,0.70,0.77,0.74,0.69,0.73,0.71,0.73)\n",
    "MLP =  (0.66,0.68,0.72,0.71,0.77,0.76,0.65,0.75,0.72,0.71)"
   ]
  },
  {
   "cell_type": "code",
   "execution_count": 20,
   "id": "17adac35",
   "metadata": {
    "scrolled": true
   },
   "outputs": [
    {
     "name": "stdout",
     "output_type": "stream",
     "text": [
      "Mean RF: 0.726\n",
      "Mean AD: 0.72\n",
      "Mean NB: 0.688\n",
      "Mean ADA: 0.712\n",
      "Mean MLP: 0.713\n"
     ]
    }
   ],
   "source": [
    "import statistics\n",
    "\n",
    "# Calculate the mean using statistics module\n",
    "meanRF = statistics.mean(RF)\n",
    "meanAD = statistics.mean(AD)\n",
    "meanNB = statistics.mean(NB)\n",
    "meanADA = statistics.mean(ADA)\n",
    "meanMLP = statistics.mean(MLP)\n",
    "# Print the mean\n",
    "print(\"Mean RF:\", meanRF)\n",
    "print(\"Mean AD:\", meanAD)\n",
    "print(\"Mean NB:\", meanNB)\n",
    "print(\"Mean ADA:\", meanADA)\n",
    "print(\"Mean MLP:\", meanMLP)"
   ]
  },
  {
   "cell_type": "code",
   "execution_count": 25,
   "id": "a1745ede",
   "metadata": {},
   "outputs": [
    {
     "name": "stdout",
     "output_type": "stream",
     "text": [
      "Standard Deviation RF: 0.03440930106817053\n",
      "Standard Deviation AD: 0.03741657386773942\n",
      "Standard Deviation NB: 0.03487119154832538\n",
      "Standard Deviation ADA: 0.03218695387886216\n",
      "Standard Deviation MLP: 0.03848376280978771\n"
     ]
    }
   ],
   "source": [
    "# Convert the tuple to a NumPy array\n",
    "arrRF = np.array(RF)\n",
    "arrAD = np.array(AD)\n",
    "arrNB = np.array(NB)\n",
    "arrADA = np.array(ADA)\n",
    "arrMLP = np.array(MLP)\n",
    "# Calculate the standard deviation using NumPy\n",
    "std_devRF = np.std(arrRF)\n",
    "std_devAD = np.std(arrAD)\n",
    "std_devNB = np.std(arrNB)\n",
    "std_devADA = np.std(arrADA)\n",
    "std_devMLP = np.std(arrMLP)\n",
    "\n",
    "# Print the standard deviation\n",
    "print(\"Standard Deviation RF:\", std_devRF)\n",
    "print(\"Standard Deviation AD:\", std_devAD)\n",
    "print(\"Standard Deviation NB:\", std_devNB)\n",
    "print(\"Standard Deviation ADA:\", std_devADA)\n",
    "print(\"Standard Deviation MLP:\", std_devMLP)"
   ]
  },
  {
   "cell_type": "markdown",
   "id": "2c48f919",
   "metadata": {},
   "source": [
    "# resultados de acordo com a tabela de teste T disponível no canvas - valores de média e desvio padrão são de f1-measure"
   ]
  },
  {
   "cell_type": "markdown",
   "id": "d5f428f1",
   "metadata": {},
   "source": [
    "h0 = as médias são equivalentes\n",
    "\n",
    "h1 = não são equivalentes\n",
    "\n",
    "se t < Critical Value = 2,10092204, aceita-se a hipótese nula"
   ]
  },
  {
   "cell_type": "markdown",
   "id": "505111a1",
   "metadata": {},
   "source": [
    "RF = AD\n",
    "\n",
    "t\t0,3733903069\n",
    "\n",
    "pvalue\t0,7132191825"
   ]
  },
  {
   "cell_type": "markdown",
   "id": "d573c12d",
   "metadata": {},
   "source": [
    "# Random forest é melhor que o naive bayes\n",
    "\n",
    "RF > NB\n",
    "\n",
    "t\t2,455756175\n",
    "\n",
    "pvalue\t0,02445086292"
   ]
  },
  {
   "cell_type": "markdown",
   "id": "8c666e76",
   "metadata": {},
   "source": [
    "RF = ADA\n",
    "\n",
    "t\t0,9409396874\n",
    "\n",
    "pvalue\t0,3591931427"
   ]
  },
  {
   "cell_type": "markdown",
   "id": "f0c37666",
   "metadata": {},
   "source": [
    "RF = MLP\n",
    "\n",
    "t\t0,797392965\n",
    "\n",
    "pvalue\t0,4356160921"
   ]
  },
  {
   "cell_type": "markdown",
   "id": "55d2c460",
   "metadata": {},
   "source": [
    "AD = NB\n",
    "\n",
    "t\t1,980826169\n",
    "\n",
    "pvalue\t0,06310123099"
   ]
  },
  {
   "cell_type": "markdown",
   "id": "1f1c7beb",
   "metadata": {},
   "source": [
    "AD = ADA\n",
    "\n",
    "t\t0,513287907\n",
    "\n",
    "pvalue\t0,6139924749"
   ]
  },
  {
   "cell_type": "markdown",
   "id": "7e454a48",
   "metadata": {},
   "source": [
    "AD = MLP\n",
    "\n",
    "t\t0,4129581505\n",
    "\n",
    "pvalue\t0,6845148269"
   ]
  },
  {
   "cell_type": "markdown",
   "id": "978dd5d1",
   "metadata": {},
   "source": [
    "NB = ADA\n",
    "\n",
    "t\t1,603048692\n",
    "\n",
    "pvalue\t0,1263264573"
   ]
  },
  {
   "cell_type": "markdown",
   "id": "446c5ff0",
   "metadata": {},
   "source": [
    "NB = MLP\n",
    "\n",
    "t\t1,525525054\n",
    "\n",
    "pvalue\t0,1445070162"
   ]
  },
  {
   "cell_type": "markdown",
   "id": "b53374f3",
   "metadata": {},
   "source": [
    "\n",
    "ADA = MLP\n",
    "\n",
    "t\t0,0631827807\n",
    "\n",
    "pvalue\t0,9503173081"
   ]
  }
 ],
 "metadata": {
  "kernelspec": {
   "display_name": "Python 3 (ipykernel)",
   "language": "python",
   "name": "python3"
  },
  "language_info": {
   "codemirror_mode": {
    "name": "ipython",
    "version": 3
   },
   "file_extension": ".py",
   "mimetype": "text/x-python",
   "name": "python",
   "nbconvert_exporter": "python",
   "pygments_lexer": "ipython3",
   "version": "3.9.13"
  }
 },
 "nbformat": 4,
 "nbformat_minor": 5
}
